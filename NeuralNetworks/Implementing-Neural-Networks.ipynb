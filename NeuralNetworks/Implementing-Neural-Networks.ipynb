{
 "cells": [
  {
   "cell_type": "code",
   "execution_count": null,
   "metadata": {},
   "outputs": [],
   "source": [
    "import pandas as pd\n",
    "from sklearn.model_selection import train_test_split\n",
    "from sklearn.preprocessing import StandardScaler\n",
    "from sklearn.preprocessing import Normalizer\n",
    "from sklearn.compose import ColumnTransformer\n",
    "from tensorflow.keras.models import Sequential\n",
    "from tensorflow.keras.layers import InputLayer\n",
    "from tensorflow.keras.layers import Dense\n",
    "from tensorflow.keras.optimizers import Adam\n",
    "\n",
    "\n",
    "dataset = pd.read_csv('C:\\Users\\ser\\Downloads\\NeuralNetworks\\life_expectancy.csv')\n",
    "print(dataset.describe())\n",
    "\n",
    "dataset = dataset.drop(['Country'], axis = 1)\n",
    "print(dataset.head())\n",
    "labels = dataset.iloc[:,-1]\n",
    "features = dataset.iloc[:,:-1]\n",
    "\n",
    "features = pd.get_dummies(features)\n",
    "features_train, features_test, labels_train,labels_test = train_test_split(features, labels, test_size = 0.2, random_state = 25)\n",
    "print(features_train.shape)\n",
    "print(features_test.shape)\n",
    "\n",
    "numerical_features = features.select_dtypes(include=['float64', 'int64'])\n",
    "numerical_columns = numerical_features.columns\n",
    " \n",
    "ct = ColumnTransformer([(\"only numeric\", StandardScaler(), numerical_columns)], remainder='passthrough')\n",
    "\n",
    "features_train_scaled = ct.fit_transform(features_train)\n",
    "features_test_scaled = ct.transform(features_test)\n",
    "\n",
    "my_model = Sequential()\n",
    "my_input = InputLayer(input_shape = (features_train_scaled.shape[1], ))\n",
    "my_model.add(my_input)\n",
    "\n",
    "my_model.add(Dense(64, activation = \"relu\"))\n",
    "\n",
    "my_model.add(Dense(1))\n",
    "\n",
    "my_model.summary()\n",
    "\n",
    "opt = Adam(learning_rate = 0.01)\n",
    "my_model.compile(loss = 'mse', metrics = ['mae'], optimizer = opt)\n",
    "\n",
    "my_model.fit(features_train_scaled, labels_train, epochs = 40, batch_size = 1, verbose = 0)\n",
    "\n",
    "res_mse , res_mae = my_model.evaluate(features_test_scaled, labels_test, verbose = 1)\n",
    "\n",
    "print('mse', res_mse)\n",
    "print('mae', res_mae)\n",
    " "
   ]
  }
 ],
 "metadata": {
  "kernelspec": {
   "display_name": "Python 3",
   "language": "python",
   "name": "python3"
  },
  "language_info": {
   "codemirror_mode": {
    "name": "ipython",
    "version": 3
   },
   "file_extension": ".py",
   "mimetype": "text/x-python",
   "name": "python",
   "nbconvert_exporter": "python",
   "pygments_lexer": "ipython3",
   "version": "3.8.5"
  }
 },
 "nbformat": 4,
 "nbformat_minor": 4
}
